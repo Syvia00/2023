{
 "cells": [
  {
   "cell_type": "markdown",
   "metadata": {},
   "source": [
    "## Comp3419 Assignment_1a\n",
    "## 500177868"
   ]
  },
  {
   "cell_type": "code",
   "execution_count": 1,
   "metadata": {},
   "outputs": [],
   "source": [
    "## import library\n",
    "import sys\n",
    "import os\n",
    "import cv2\n",
    "import numpy as np\n",
    "import math\n",
    "from matplotlib import pyplot as plt\n",
    "%matplotlib inline"
   ]
  },
  {
   "cell_type": "markdown",
   "metadata": {},
   "source": [
    "#### Check the path and open video"
   ]
  },
  {
   "cell_type": "code",
   "execution_count": 2,
   "metadata": {},
   "outputs": [],
   "source": [
    "## path name\n",
    "path_to_video = 'monkey.avi'\n",
    "frame_save_path = './frames/'\n",
    "composite_save_path = './composite/'\n",
    "new_composite_save_path = './new_composite/'"
   ]
  },
  {
   "cell_type": "code",
   "execution_count": 3,
   "metadata": {},
   "outputs": [],
   "source": [
    "## create directory\n",
    "def create_dir_if_not_exists(directory):\n",
    "    if not os.path.exists(directory):\n",
    "        os.makedirs(directory)"
   ]
  },
  {
   "cell_type": "code",
   "execution_count": 4,
   "metadata": {},
   "outputs": [
    {
     "name": "stdout",
     "output_type": "stream",
     "text": [
      "752\n",
      "576.0\n",
      "720.0\n"
     ]
    }
   ],
   "source": [
    "## open video and check whether dir is exist and create if not\n",
    "cap = cv2.VideoCapture(path_to_video)\n",
    "create_dir_if_not_exists(frame_save_path)\n",
    "create_dir_if_not_exists(composite_save_path)\n",
    "create_dir_if_not_exists(new_composite_save_path)\n",
    "if not cap.isOpened():\n",
    "    print('{} not opened'.format(path_to_video))\n",
    "    sys.exit(1)\n",
    "# Use cv2 to fetch three important variables\n",
    "time_length = int(cap.get(cv2.CAP_PROP_FRAME_COUNT))\n",
    "frame_height = cap.get(cv2.CAP_PROP_FRAME_HEIGHT)\n",
    "frame_width = cap.get(cv2.CAP_PROP_FRAME_WIDTH)\n",
    "\n",
    "print(time_length)\n",
    "print(frame_height)\n",
    "print(frame_width)"
   ]
  },
  {
   "cell_type": "markdown",
   "metadata": {},
   "source": [
    "#### Extract Frames from Monkey video"
   ]
  },
  {
   "cell_type": "code",
   "execution_count": 5,
   "metadata": {},
   "outputs": [
    {
     "name": "stdout",
     "output_type": "stream",
     "text": [
      "Video Reach End\n"
     ]
    }
   ],
   "source": [
    "frame_counter = 0    \n",
    "while(1):\n",
    "    return_flag, frame = cap.read()  \n",
    "    if not return_flag:\n",
    "        print('Video Reach End')\n",
    "        break\n",
    "    cv2.imwrite(frame_save_path + 'frame%d.tif' % frame_counter, frame)\n",
    "    frame_counter += 1\n",
    "    if cv2.waitKey(30) & 0xff == ord('q'):\n",
    "        break\n",
    "cap.release()\n",
    "cv2.destroyAllWindows()"
   ]
  },
  {
   "cell_type": "markdown",
   "metadata": {},
   "source": [
    "#### Motion Estimation"
   ]
  },
  {
   "cell_type": "code",
   "execution_count": 6,
   "metadata": {},
   "outputs": [],
   "source": [
    "def arrowdraw(img, x1, y1, x2, y2):\n",
    "    radians = math.atan2(x1-x2, y2-y1)\n",
    "    x11 = 0\n",
    "    y11 = 0\n",
    "    x12 = -10\n",
    "    y12 = -10\n",
    "\n",
    "    u11 = 0\n",
    "    v11 = 0\n",
    "    u12 = 10\n",
    "    v12 = -10\n",
    "    \n",
    "    x11_ = x11*math.cos(radians) - y11*math.sin(radians) + x2\n",
    "    y11_ = x11*math.sin(radians) + y11*math.cos(radians) + y2\n",
    "\n",
    "    x12_ = x12 * math.cos(radians) - y12 * math.sin(radians) + x2\n",
    "    y12_ = x12 * math.sin(radians) + y12 * math.cos(radians) + y2\n",
    "    \n",
    "    u11_ = u11 * math.cos(radians) - v11 * math.sin(radians) + x2\n",
    "    v11_ = u11 * math.sin(radians) + v11 * math.cos(radians) + y2\n",
    "\n",
    "    u12_ = u12 * math.cos(radians) - v12 * math.sin(radians) + x2\n",
    "    v12_ = u12 * math.sin(radians) + v12 * math.cos(radians) + y2\n",
    "    img = cv2.line(img, (x1, y1), (x2, y2), (255, 0, 0), 5)\n",
    "    img = cv2.line(img, (int(x11_), int(y11_)), (int(x12_), int(y12_)), \n",
    "    (255, 0, 0), 5)\n",
    "    img = cv2.line(img, (int(u11_), int(v11_)), (int(u12_), int(v12_)), \n",
    "    (255, 0, 0), 5)\n",
    "    \n",
    "    return img"
   ]
  },
  {
   "cell_type": "code",
   "execution_count": 7,
   "metadata": {},
   "outputs": [
    {
     "name": "stdout",
     "output_type": "stream",
     "text": [
      "Reach end\n"
     ]
    },
    {
     "name": "stderr",
     "output_type": "stream",
     "text": [
      "[ WARN:0@1013.218] global loadsave.cpp:244 findDecoder imread_('./frames/frame752.tif'): can't open/read file: check file path/integrity\n"
     ]
    }
   ],
   "source": [
    "## initial value\n",
    "k = 4\n",
    "search_area = 10\n",
    "Tmin = 0\n",
    "Tmax = 10\n",
    "frame_counter = 0\n",
    "## Iterate all frames\n",
    "while(True):\n",
    "    ## read frame with current ad next one\n",
    "    current_frame = cv2.imread(frame_save_path + 'frame%d.tif' % frame_counter)\n",
    "    if current_frame is None:\n",
    "        print('Reach end')\n",
    "        break\n",
    "    next_frame = cv2.imread(frame_save_path + 'frame%d.tif' % (frame_counter + 1))\n",
    "    ## define grid blocks for current frame\n",
    "    current_grid = cv2.cvtColor(current_frame, cv2.COLOR_BGR2GRAY)\n",
    "    next_grid = cv2.cvtColor(next_frame, cv2.COLOR_BGR2GRAY)\n",
    "    ## loop all block in current frame\n",
    "    for y in range(5, int(frame_height), 2 * k + 1):\n",
    "        for x in range(5, int(frame_width), 2 * k + 1):\n",
    "            ## difine the min of SSD\n",
    "            min_SSD = 526\n",
    "            ## best match value\n",
    "            best_x = 0\n",
    "            best_y = 0\n",
    "            ## if pixel is blue then to the next block\n",
    "            if current_frame[y][x][0] >= 100 or next_frame[y][x][0] >= 100:\n",
    "                continue\n",
    "            # Search for the best matching block in the search range\n",
    "            for search_y in range(y - search_area, y + search_area + 1):\n",
    "                ## if out of range then go to nexy\n",
    "                if search_y < 0 or search_y + 2 * k >= frame_height: \n",
    "                    continue\n",
    "                for search_x in range(x - search_area, x + search_area + 1):\n",
    "                    if search_x < 0 or search_x + 2 * k >= frame_width:\n",
    "                        continue\n",
    "                    ## calculate ssd\n",
    "                    ssd = np.sqrt(np.sum((current_grid[y-k:y+k,x-k:x+k]-next_grid[search_y-k:search_y+k,search_x-k:search_x+k])**2))\n",
    "                    ## select minimum ssd\n",
    "                    if ssd < min_SSD:\n",
    "                        min_SSD = ssd\n",
    "                        best_x = search_x\n",
    "                        best_y = search_y\n",
    "            ## if ssd is in range (Tmin,Tmax), then fraw arrow on it\n",
    "            if min_SSD < Tmax and  min_SSD > Tmin:\n",
    "                new_img = arrowdraw(current_frame, x, y, best_x, best_y)\n",
    "                cv2.imwrite('composite/composite%d.tif' % frame_counter, new_img)\n",
    "    frame_counter += 1"
   ]
  },
  {
   "cell_type": "markdown",
   "metadata": {},
   "source": [
    "#### Convert extracted frame to result video"
   ]
  },
  {
   "cell_type": "code",
   "execution_count": 11,
   "metadata": {},
   "outputs": [
    {
     "name": "stdout",
     "output_type": "stream",
     "text": [
      "No more frames to be loaded\n"
     ]
    }
   ],
   "source": [
    "frame_load_path = 'composite/'\n",
    "path_to_output_video = 'output.avi'\n",
    "video = cv2.imread('composite/composite1.tif')\n",
    "frame_height = video.shape[0]\n",
    "frame_width = video.shape[1]\n",
    "out = cv2.VideoWriter(path_to_output_video, cv2.VideoWriter_fourcc('M', 'J', 'P', 'G'), 10, (int(frame_width), int(frame_height)))\n",
    "frame_counter = 0\n",
    "while(1):\n",
    "    img = cv2.imread(frame_load_path + 'composite%d.tif' % frame_counter)\n",
    "    if frame_counter == 752:\n",
    "        print('No more frames to be loaded')\n",
    "        break\n",
    "    out.write(img)\n",
    "    frame_counter += 1\n",
    "out.release()\n",
    "cv2.destroyAllWindows()"
   ]
  },
  {
   "cell_type": "markdown",
   "metadata": {},
   "source": [
    "#### If change the T range then we could have different arrow"
   ]
  },
  {
   "cell_type": "code",
   "execution_count": 12,
   "metadata": {},
   "outputs": [
    {
     "name": "stdout",
     "output_type": "stream",
     "text": [
      "Reach end\n"
     ]
    }
   ],
   "source": [
    "## initial value\n",
    "k = 4\n",
    "search_area = 10\n",
    "Tmin = 0\n",
    "Tmax = 20\n",
    "frame_counter = 0\n",
    "## Iterate all frames\n",
    "while(True):\n",
    "    ## read frame with current ad next one\n",
    "    current_frame = cv2.imread(frame_save_path + 'frame%d.tif' % frame_counter)\n",
    "    next_frame = cv2.imread(frame_save_path + 'frame%d.tif' % (frame_counter + 1))\n",
    "    ## check whether no more frames\n",
    "    if (current_frame is None) or (next_frame is None):\n",
    "        print('Reach end')\n",
    "        break\n",
    "    ## define grid blocks for current frame\n",
    "    current_grid = cv2.cvtColor(current_frame, cv2.COLOR_BGR2GRAY)\n",
    "    next_grid = cv2.cvtColor(next_frame, cv2.COLOR_BGR2GRAY)\n",
    "    ## loop all block in current frame\n",
    "    for y in range(5, int(frame_height), 2 * k + 1):\n",
    "        for x in range(5, int(frame_width), 2 * k + 1):\n",
    "            ## difine the min of SSD\n",
    "            min_SSD = 526\n",
    "            ## best match value\n",
    "            best_x = 0\n",
    "            best_y = 0\n",
    "            ## if pixel is blue then to the next block\n",
    "            if current_frame[y][x][0] >= 100 or next_frame[y][x][0] >= 100:\n",
    "                continue\n",
    "            # Search for the best matching block in the search range\n",
    "            for search_y in range(y - search_area, y + search_area + 1):\n",
    "                ## if out of range then go to nexy\n",
    "                if search_y < 0 or search_y + 2 * k >= frame_height: \n",
    "                    continue\n",
    "                for search_x in range(x - search_area, x + search_area + 1):\n",
    "                    if search_x < 0 or search_x + 2 * k >= frame_width:\n",
    "                        continue\n",
    "                    ## calculate ssd\n",
    "                    ssd = np.sqrt(np.sum((current_grid[y-k:y+k,x-k:x+k]-next_grid[search_y-k:search_y+k,search_x-k:search_x+k])**2))\n",
    "                    ## select minimum ssd\n",
    "                    if ssd < min_SSD:\n",
    "                        min_SSD = ssd\n",
    "                        best_x = search_x\n",
    "                        best_y = search_y\n",
    "            ## if ssd is in range (Tmin,Tmax), then fraw arrow on it\n",
    "            if min_SSD < Tmax and  min_SSD > Tmin:\n",
    "                new_img = arrowdraw(current_frame, x, y, best_x, best_y)\n",
    "                cv2.imwrite('new_composite/composite%d.tif' % frame_counter, new_img)\n",
    "    frame_counter += 1"
   ]
  },
  {
   "cell_type": "code",
   "execution_count": 13,
   "metadata": {},
   "outputs": [
    {
     "name": "stdout",
     "output_type": "stream",
     "text": [
      "No more frames to be loaded\n"
     ]
    }
   ],
   "source": [
    "frame_load_path = 'new_composite/'\n",
    "path_to_output_video = 'new_output.avi'\n",
    "video = cv2.imread('new_composite/composite1.tif')\n",
    "frame_height = video.shape[0]\n",
    "frame_width = video.shape[1]\n",
    "out = cv2.VideoWriter(path_to_output_video, cv2.VideoWriter_fourcc('M', 'J', 'P', 'G'), 10, (int(frame_width), int(frame_height)))\n",
    "frame_counter = 0\n",
    "while(1):\n",
    "    img = cv2.imread(frame_load_path + 'composite%d.tif' % frame_counter)\n",
    "    if frame_counter == 752:\n",
    "        print('No more frames to be loaded')\n",
    "        break\n",
    "    out.write(img)\n",
    "    frame_counter += 1\n",
    "out.release()\n",
    "cv2.destroyAllWindows()"
   ]
  }
 ],
 "metadata": {
  "kernelspec": {
   "display_name": "base",
   "language": "python",
   "name": "python3"
  },
  "language_info": {
   "codemirror_mode": {
    "name": "ipython",
    "version": 3
   },
   "file_extension": ".py",
   "mimetype": "text/x-python",
   "name": "python",
   "nbconvert_exporter": "python",
   "pygments_lexer": "ipython3",
   "version": "3.9.7"
  },
  "orig_nbformat": 4
 },
 "nbformat": 4,
 "nbformat_minor": 2
}
